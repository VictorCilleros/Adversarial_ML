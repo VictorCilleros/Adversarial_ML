{
  "nbformat": 4,
  "nbformat_minor": 0,
  "metadata": {
    "colab": {
      "private_outputs": true,
      "provenance": []
    },
    "kernelspec": {
      "name": "python3",
      "display_name": "Python 3"
    },
    "language_info": {
      "name": "python"
    }
  },
  "cells": [
    {
      "cell_type": "markdown",
      "source": [
        "# Set the stage"
      ],
      "metadata": {
        "id": "4vEH4NCRhkGH"
      }
    },
    {
      "cell_type": "code",
      "execution_count": null,
      "metadata": {
        "id": "grrE-a_6fY5K"
      },
      "outputs": [],
      "source": [
        "import numpy as np\n",
        "import matplotlib.pyplot as plt\n",
        "import matplotlib\n",
        "import torch\n",
        "import cvxpy\n",
        "\n",
        "%matplotlib inline\n",
        "%config InlineBackend.figure_format = 'svg'"
      ]
    },
    {
      "cell_type": "markdown",
      "source": [
        "# Load an image"
      ],
      "metadata": {
        "id": "_9nkFc3mgbYM"
      }
    },
    {
      "cell_type": "code",
      "source": [
        "from skimage import io\n",
        "from PIL import Image \n",
        "from torchvision import transforms\n",
        "\n",
        "# read the image, resize to 224 and convert to PyTorch Tensor\n",
        "pig_img = Image.open(\"pig.jpg\")\n",
        "preprocess = transforms.Compose([\n",
        "   transforms.Resize(224),\n",
        "   transforms.ToTensor(),\n",
        "])\n",
        "pig_tensor = preprocess(pig_img)[None,:,:,:]\n",
        "\n",
        "# plot image (note that numpy using HWC whereas Pytorch user CHW, so we need to convert)\n",
        "plt.imshow(pig_tensor[0].numpy().transpose(1,2,0))"
      ],
      "metadata": {
        "id": "Q9X-nQLVfy5H"
      },
      "execution_count": null,
      "outputs": []
    },
    {
      "cell_type": "markdown",
      "source": [
        "# Load a model"
      ],
      "metadata": {
        "id": "3ppwH_pIgah0"
      }
    },
    {
      "cell_type": "code",
      "source": [
        "import torch\n",
        "import torch.nn as nn\n",
        "from torchvision.models import resnet50\n",
        "\n",
        "# simple Module to normalize an image\n",
        "class Normalize(nn.Module):\n",
        "    def __init__(self, mean, std):\n",
        "        super(Normalize, self).__init__()\n",
        "        self.mean = torch.Tensor(mean)\n",
        "        \n",
        "from torchvision import datasets, transforms\n",
        "from torch.utils.data import DataLoader\n",
        "\n",
        "mnist_train = datasets.MNIST(\"./data\", train=True, download=True, transform=transforms.ToTensor())\n",
        "mnist_test = datasets.MNIST(\"./data\", train=False, download=True, transform=transforms.ToTensor())\n",
        "\n",
        "train_idx = (mnist_train.train_labels <= 1)\n",
        "print(train_idx)\n",
        "mnist_train.train_data = mnist_train.train_data[train_idx]\n",
        "mnist_train.train_labels = mnist_train.train_labels[train_idx]\n",
        "\n",
        "test_idx = mnist_test.test_labels <= 1\n",
        "mnist_test.test_data = mnist_test.test_data[test_idx]\n",
        "mnist_test.test_labels = mnist_test.test_labels[test_idx]\n",
        "\n",
        "train_loader = DataLoader(mnist_train, batch_size = 100, shuffle=True)\n",
        "test_loader = DataLoader(mnist_test, batch_size = 100, shuffle=False)\n",
        "self.std = torch.Tensor(std)\n",
        "def forward(self, x):\n",
        "        return (x - self.mean.type_as(x)[None,:,None,None]) / self.std.type_as(x)[None,:,None,None]\n",
        "\n",
        "# values are standard normalization for ImageNet images, \n",
        "# from https://github.com/pytorch/examples/blob/master/imagenet/main.py\n",
        "norm = Normalize(mean=[0.485, 0.456, 0.406], std=[0.229, 0.224, 0.225])\n",
        "\n",
        "# load pre-trained ResNet50, and put into evaluation mode (necessary to e.g. turn off batchnorm)\n",
        "model = resnet50(pretrained=True)\n",
        "model.eval();"
      ],
      "metadata": {
        "id": "hqyIniTlgw9V"
      },
      "execution_count": null,
      "outputs": []
    },
    {
      "cell_type": "markdown",
      "source": [
        "# Predict with the model"
      ],
      "metadata": {
        "id": "krFe5qUHhpmk"
      }
    },
    {
      "cell_type": "code",
      "source": [
        "# form predictions\n",
        "pred = model(norm(pig_tensor))\n",
        "print(pred.shape)\n",
        "\n",
        "# get the argmax label and its name\n",
        "import json\n",
        "\n",
        "with open(\"imagenet_class_index.json\") as f:\n",
        "    imagenet_classes = {int(i):x[1] for i,x in json.load(f).items()}\n",
        "print(imagenet_classes[pred.max(dim=1)[1].item()])"
      ],
      "metadata": {
        "id": "gJqZdsLfg_LP"
      },
      "execution_count": null,
      "outputs": []
    },
    {
      "cell_type": "markdown",
      "source": [
        "## Loss and confidence in prediction"
      ],
      "metadata": {
        "id": "FrTHylTsix0t"
      }
    },
    {
      "cell_type": "code",
      "source": [
        "# 341 is the class index corresponding to \"hog\"\n",
        "pred_loss = nn.CrossEntropyLoss()(model(norm(pig_tensor)),torch.m([341])).item()\n",
        "print(\"Loss = \", pred_loss)\n",
        "print(\"Confidence in prediction = \", np.exp(-pred_loss))"
      ],
      "metadata": {
        "id": "mdasUcrpiFmJ"
      },
      "execution_count": null,
      "outputs": []
    },
    {
      "cell_type": "markdown",
      "source": [
        "# Let there be noise"
      ],
      "metadata": {
        "id": "537cpDmPjQz7"
      }
    },
    {
      "cell_type": "code",
      "source": [
        "import torch.optim as optim\n",
        "# The noise radius\n",
        "epsilon = 2./255\n",
        "\n",
        "delta = torch.zeros_like(pig_tensor, requires_grad=True)\n",
        "opt = optim.SGD([delta], lr=1e-1)\n",
        "\n",
        "for t in range(30):\n",
        "    pred = model(norm(pig_tensor + delta))\n",
        "    loss = -nn.CrossEntropyLoss()(pred, torch.LongTensor([341]))\n",
        "    if t % 5 == 0:\n",
        "        print(t, loss.item())\n",
        "    \n",
        "    opt.zero_grad()\n",
        "    loss.backward()\n",
        "    opt.step()\n",
        "    delta.data.clamp_(-epsilon, epsilon)\n",
        "    \n",
        "print(\"True class: \", imagenet_classes[341])\n",
        "print(\"True class probability:\", nn.Softmax(dim=1)(pred)[0,341].item())"
      ],
      "metadata": {
        "id": "rg7R0Om5jH2t"
      },
      "execution_count": null,
      "outputs": []
    },
    {
      "cell_type": "code",
      "source": [
        "max_class = pred.max(dim=1)[1].item()\n",
        "print(\"Predicted class: \", imagenet_classes[max_class])\n",
        "print(\"Confidence in prediction:\", nn.Softmax(dim=1)(pred)[0,max_class].item())"
      ],
      "metadata": {
        "id": "zgphJkfyjaXW"
      },
      "execution_count": null,
      "outputs": []
    },
    {
      "cell_type": "markdown",
      "source": [
        "## What made this change?"
      ],
      "metadata": {
        "id": "H3tFvQvPkU1Q"
      }
    },
    {
      "cell_type": "code",
      "source": [
        "plt.imshow((pig_tensor + delta)[0].detach().numpy().transpose(1,2,0)) #Perturbed"
      ],
      "metadata": {
        "id": "tXJZAP_0kSyH"
      },
      "execution_count": null,
      "outputs": []
    },
    {
      "cell_type": "code",
      "source": [
        "plt.imshow(pig_tensor[0].detach().numpy().transpose(1,2,0)) #Original"
      ],
      "metadata": {
        "id": "zdghljVLkopt"
      },
      "execution_count": null,
      "outputs": []
    },
    {
      "cell_type": "code",
      "source": [
        "plt.imshow((50*delta+0.5)[0].detach().numpy().transpose(1,2,0)) #Added noise"
      ],
      "metadata": {
        "id": "d5N3ieQVk1Tm"
      },
      "execution_count": null,
      "outputs": []
    },
    {
      "cell_type": "markdown",
      "source": [
        "What you have seen right now is a naive adversarial attack! Let's check the math behind."
      ],
      "metadata": {
        "id": "qXSA4rwfkUF0"
      }
    },
    {
      "cell_type": "markdown",
      "source": [
        "# Let's look into Linear models"
      ],
      "metadata": {
        "id": "b4Ik99u3yuf6"
      }
    },
    {
      "cell_type": "code",
      "source": [
        "from torchvision import datasets, transforms\n",
        "from torch.utils.data import DataLoader\n",
        "\n",
        "mnist_train = datasets.MNIST(\"./data\", train=True, download=True, transform=transforms.ToTensor())\n",
        "mnist_test = datasets.MNIST(\"./data\", train=False, download=True, transform=transforms.ToTensor())\n",
        "\n",
        "train_idx = mnist_train.train_labels <= 1\n",
        "mnist_train.train_data = mnist_train.train_data[train_idx]\n",
        "mnist_train.train_labels = mnist_train.train_labels[train_idx]\n",
        "\n",
        "test_idx = mnist_test.test_labels <= 1\n",
        "mnist_test.test_data = mnist_test.test_data[test_idx]\n",
        "mnist_test.test_labels = mnist_test.test_labels[test_idx]\n",
        "\n",
        "train_loader = DataLoader(mnist_train, batch_size = 100, shuffle=True)\n",
        "test_loader = DataLoader(mnist_test, batch_size = 100, shuffle=False)"
      ],
      "metadata": {
        "id": "Tn8bpu5Rlj83"
      },
      "execution_count": null,
      "outputs": []
    }
  ]
}